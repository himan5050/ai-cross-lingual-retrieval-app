{
 "cells": [
  {
   "cell_type": "markdown",
   "id": "5fcc52c3",
   "metadata": {},
   "source": [
    "# <b>Created DENSE and SPARSE indexes through various indexing techniques.</b>"
   ]
  },
  {
   "cell_type": "markdown",
   "id": "58371e71",
   "metadata": {},
   "source": [
    "#### 1) Dense index (Semantic) with FAISS."
   ]
  },
  {
   "cell_type": "markdown",
   "id": "10160f62",
   "metadata": {},
   "source": [
    "FAISS is perfect for 50K - 500K vectors on one machine."
   ]
  },
  {
   "cell_type": "code",
   "execution_count": 12,
   "id": "5bac54fe",
   "metadata": {},
   "outputs": [],
   "source": [
    "import numpy as np, faiss\n",
    "from pathlib import Path\n",
    "import os, math, time, numpy as np, pandas as pd, torch\n",
    "\n",
    "from elasticsearch import Elasticsearch, helpers"
   ]
  },
  {
   "cell_type": "code",
   "execution_count": 13,
   "id": "b1a12705",
   "metadata": {},
   "outputs": [
    {
     "data": {
      "text/plain": [
       "'paraphrase-multilingual-MiniLM-L12-v2__meta.parquet'"
      ]
     },
     "execution_count": 13,
     "metadata": {},
     "output_type": "execute_result"
    }
   ],
   "source": [
    "MODEL_TAG = \"paraphrase-multilingual-MiniLM-L12-v2\"\n",
    "METADATA_FILENAME = f\"{MODEL_TAG}__meta.parquet\"\n",
    "METADATA_FILENAME"
   ]
  },
  {
   "cell_type": "code",
   "execution_count": 3,
   "id": "1e5f0985",
   "metadata": {},
   "outputs": [],
   "source": [
    "df_meta = pd.read_parquet(f\"data/embed/{METADATA_FILENAME}\")  # includes global_chunk_id, etc."
   ]
  },
  {
   "cell_type": "code",
   "execution_count": null,
   "id": "5e8abfad",
   "metadata": {},
   "outputs": [
    {
     "data": {
      "text/html": [
       "<div>\n",
       "<style scoped>\n",
       "    .dataframe tbody tr th:only-of-type {\n",
       "        vertical-align: middle;\n",
       "    }\n",
       "\n",
       "    .dataframe tbody tr th {\n",
       "        vertical-align: top;\n",
       "    }\n",
       "\n",
       "    .dataframe thead th {\n",
       "        text-align: right;\n",
       "    }\n",
       "</style>\n",
       "<table border=\"1\" class=\"dataframe\">\n",
       "  <thead>\n",
       "    <tr style=\"text-align: right;\">\n",
       "      <th></th>\n",
       "      <th>global_chunk_id</th>\n",
       "      <th>doc_id</th>\n",
       "      <th>chunk_id</th>\n",
       "      <th>site</th>\n",
       "      <th>lang</th>\n",
       "      <th>title</th>\n",
       "      <th>preview</th>\n",
       "      <th>chunk_tokens</th>\n",
       "    </tr>\n",
       "  </thead>\n",
       "  <tbody>\n",
       "    <tr>\n",
       "      <th>0</th>\n",
       "      <td>0:0</td>\n",
       "      <td>0</td>\n",
       "      <td>0</td>\n",
       "      <td>armenia__textcontent_article</td>\n",
       "      <td>en</td>\n",
       "      <td>Երբեք չէի պատկերացնի</td>\n",
       "      <td>\"I have never thought that I can do important ...</td>\n",
       "      <td>288</td>\n",
       "    </tr>\n",
       "    <tr>\n",
       "      <th>1</th>\n",
       "      <td>1:0</td>\n",
       "      <td>1</td>\n",
       "      <td>0</td>\n",
       "      <td>armenia__textcontent_article</td>\n",
       "      <td>en</td>\n",
       "      <td>Երբեք չէի պատկերացնի</td>\n",
       "      <td>We spoke to Heghine for a long time and she of...</td>\n",
       "      <td>350</td>\n",
       "    </tr>\n",
       "    <tr>\n",
       "      <th>2</th>\n",
       "      <td>1:1</td>\n",
       "      <td>1</td>\n",
       "      <td>1</td>\n",
       "      <td>armenia__textcontent_article</td>\n",
       "      <td>en</td>\n",
       "      <td>Երբեք չէի պատկերացնի</td>\n",
       "      <td>responsibility, this is her opportunity to als...</td>\n",
       "      <td>68</td>\n",
       "    </tr>\n",
       "    <tr>\n",
       "      <th>3</th>\n",
       "      <td>2:0</td>\n",
       "      <td>2</td>\n",
       "      <td>0</td>\n",
       "      <td>armenia__textcontent_article</td>\n",
       "      <td>hy</td>\n",
       "      <td>Աղետներին պատրաստ դպրոց` սահմանամերձ գյուղում</td>\n",
       "      <td>Տավուշի մարզի Ներքին Ծաղկավան գյուղի դպրոցի VI...</td>\n",
       "      <td>174</td>\n",
       "    </tr>\n",
       "    <tr>\n",
       "      <th>4</th>\n",
       "      <td>3:0</td>\n",
       "      <td>3</td>\n",
       "      <td>0</td>\n",
       "      <td>armenia__textcontent_article</td>\n",
       "      <td>hy</td>\n",
       "      <td>Աղետներին պատրաստ դպրոց` սահմանամերձ գյուղում</td>\n",
       "      <td>Վերջին երեք տարիներին ՅՈՒՆԻՍԵՖ-ն այս ուղղությա...</td>\n",
       "      <td>181</td>\n",
       "    </tr>\n",
       "  </tbody>\n",
       "</table>\n",
       "</div>"
      ],
      "text/plain": [
       "  global_chunk_id  doc_id  chunk_id                          site lang  \\\n",
       "0             0:0       0         0  armenia__textcontent_article   en   \n",
       "1             1:0       1         0  armenia__textcontent_article   en   \n",
       "2             1:1       1         1  armenia__textcontent_article   en   \n",
       "3             2:0       2         0  armenia__textcontent_article   hy   \n",
       "4             3:0       3         0  armenia__textcontent_article   hy   \n",
       "\n",
       "                                           title  \\\n",
       "0                           Երբեք չէի պատկերացնի   \n",
       "1                           Երբեք չէի պատկերացնի   \n",
       "2                           Երբեք չէի պատկերացնի   \n",
       "3  Աղետներին պատրաստ դպրոց` սահմանամերձ գյուղում   \n",
       "4  Աղետներին պատրաստ դպրոց` սահմանամերձ գյուղում   \n",
       "\n",
       "                                             preview  chunk_tokens  \n",
       "0  \"I have never thought that I can do important ...           288  \n",
       "1  We spoke to Heghine for a long time and she of...           350  \n",
       "2  responsibility, this is her opportunity to als...            68  \n",
       "3  Տավուշի մարզի Ներքին Ծաղկավան գյուղի դպրոցի VI...           174  \n",
       "4  Վերջին երեք տարիներին ՅՈՒՆԻՍԵՖ-ն այս ուղղությա...           181  "
      ]
     },
     "execution_count": 4,
     "metadata": {},
     "output_type": "execute_result"
    }
   ],
   "source": [
    "df_meta.head()"
   ]
  },
  {
   "cell_type": "markdown",
   "id": "98963cbd",
   "metadata": {},
   "source": [
    "Load metadata and embedding files."
   ]
  },
  {
   "cell_type": "code",
   "execution_count": 5,
   "id": "0eb56d94",
   "metadata": {},
   "outputs": [
    {
     "data": {
      "text/plain": [
       "'paraphrase-multilingual-MiniLM-L12-v2_384d_50k_float32.npy'"
      ]
     },
     "execution_count": 5,
     "metadata": {},
     "output_type": "execute_result"
    }
   ],
   "source": [
    "EMBED_FILENAME = f\"{MODEL_TAG}_384d_50k_float32.npy\"\n",
    "EMBED_FILENAME"
   ]
  },
  {
   "cell_type": "code",
   "execution_count": 6,
   "id": "8218b63f",
   "metadata": {},
   "outputs": [],
   "source": [
    "# Load your embeddings and metadata (from earlier step)\n",
    "embeddings = np.load(f\"data/embed/{EMBED_FILENAME}\").astype(\"float32\")  # (N, d) L2-normalized\n"
   ]
  },
  {
   "cell_type": "code",
   "execution_count": 7,
   "id": "18f9c6a8",
   "metadata": {},
   "outputs": [],
   "source": [
    "# Validate dimensions.\n",
    "dim = embeddings.shape[1]"
   ]
  },
  {
   "cell_type": "markdown",
   "id": "5eb06765",
   "metadata": {},
   "source": [
    "## Write index to FAISS."
   ]
  },
  {
   "cell_type": "code",
   "execution_count": 8,
   "id": "682941e0",
   "metadata": {},
   "outputs": [],
   "source": [
    "## Filename.\n",
    "INDEX_FILENAME = f\"{MODEL_TAG}__indexes.faiss\""
   ]
  },
  {
   "cell_type": "code",
   "execution_count": 9,
   "id": "9bd11194",
   "metadata": {},
   "outputs": [
    {
     "data": {
      "text/plain": [
       "'paraphrase-multilingual-MiniLM-L12-v2__indexes.faiss'"
      ]
     },
     "execution_count": 9,
     "metadata": {},
     "output_type": "execute_result"
    }
   ],
   "source": [
    "INDEX_FILENAME"
   ]
  },
  {
   "cell_type": "code",
   "execution_count": 10,
   "id": "1904833f",
   "metadata": {},
   "outputs": [],
   "source": [
    "# use IP since vectors are L2-normalized -> cosine\n",
    "index = faiss.IndexFlatIP(dim)\n",
    "\n",
    "# Add embeddings.\n",
    "index.add(embeddings)"
   ]
  },
  {
   "cell_type": "code",
   "execution_count": 11,
   "id": "c183bf2e",
   "metadata": {},
   "outputs": [],
   "source": [
    "# Write index to the shared data library.\n",
    "faiss.write_index(index, f\"../shared-data-library/indexes/faiss/{INDEX_FILENAME}\")"
   ]
  },
  {
   "cell_type": "markdown",
   "id": "c56bf4df",
   "metadata": {},
   "source": [
    "****"
   ]
  },
  {
   "cell_type": "markdown",
   "id": "a389cad5",
   "metadata": {},
   "source": [
    "## <b>Keyword based indexes (SPARSE)</b>"
   ]
  },
  {
   "cell_type": "markdown",
   "id": "6e1c3e30",
   "metadata": {},
   "source": [
    "### <b>2. Prepare data & bulk-ingest passages</b>"
   ]
  },
  {
   "cell_type": "code",
   "execution_count": 16,
   "id": "6689d931",
   "metadata": {},
   "outputs": [],
   "source": [
    "# Example: load the duplicates file\n",
    "df_passages = pd.read_parquet(\"../shared-data-library/out/df_passages.parquet\")"
   ]
  },
  {
   "cell_type": "code",
   "execution_count": 17,
   "id": "a9e6d6a8",
   "metadata": {},
   "outputs": [],
   "source": [
    "# Ensure stable IDs\n",
    "df_passages = df_passages.copy()\n",
    "df_passages[\"global_chunk_id\"] = (\n",
    "    df_passages[\"doc_id\"].astype(str) + \":\" + df_passages[\"chunk_id\"].astype(int).astype(str)\n",
    ")"
   ]
  },
  {
   "cell_type": "code",
   "execution_count": 19,
   "id": "e53a3a22",
   "metadata": {},
   "outputs": [],
   "source": [
    "# Minimal columns for ES\n",
    "to_index = df_passages.rename(columns={\"site\": \"site\"})[\n",
    "    [\"global_chunk_id\",\"doc_id\",\"chunk_id\",\"site\",\"lang\",\"title\",\"chunk_text\",\"preview\",\"chunk_tokens\"]\n",
    "].fillna({\"title\":\"\", \"preview\":\"\", \"chunk_text\":\"\"})"
   ]
  },
  {
   "cell_type": "code",
   "execution_count": 22,
   "id": "a6576241",
   "metadata": {},
   "outputs": [],
   "source": [
    "# Create instance of elasticsearch server.\n",
    "es = Elasticsearch(\n",
    "    \"http://localhost:9200\",\n",
    "    basic_auth=(\"elastic\", \"DfZP9TzO\")   # 👈 add this\n",
    ")\n"
   ]
  },
  {
   "cell_type": "code",
   "execution_count": 24,
   "id": "6a26651f",
   "metadata": {},
   "outputs": [],
   "source": [
    "def gen_actions(df):\n",
    "    for r in df.itertuples(index=False):\n",
    "        yield {\n",
    "            \"_index\": \"passages_bm25\",\n",
    "            \"_id\": r.global_chunk_id,\n",
    "            \"_source\": r._asdict()\n",
    "        }"
   ]
  },
  {
   "cell_type": "code",
   "execution_count": 25,
   "id": "648a387c",
   "metadata": {},
   "outputs": [
    {
     "name": "stderr",
     "output_type": "stream",
     "text": [
      "/var/folders/6r/x82plb356ylfzf1n3t44k5_40000gn/T/ipykernel_40521/1775236554.py:2: DeprecationWarning: Passing transport options in the API method is deprecated. Use 'Elasticsearch.options()' instead.\n",
      "  helpers.bulk(es, gen_actions(to_index), request_timeout=180)\n"
     ]
    },
    {
     "data": {
      "text/plain": [
       "(51968, [])"
      ]
     },
     "execution_count": 25,
     "metadata": {},
     "output_type": "execute_result"
    }
   ],
   "source": [
    "# Ingest\n",
    "helpers.bulk(es, gen_actions(to_index), request_timeout=180)"
   ]
  },
  {
   "cell_type": "code",
   "execution_count": 27,
   "id": "557202f5",
   "metadata": {},
   "outputs": [
    {
     "data": {
      "text/plain": [
       "ObjectApiResponse({'_shards': {'total': 2, 'successful': 1, 'failed': 0}})"
      ]
     },
     "execution_count": 27,
     "metadata": {},
     "output_type": "execute_result"
    }
   ],
   "source": [
    "# Refresh sparse index.\n",
    "es.indices.refresh(index=\"passages_bm25\")"
   ]
  },
  {
   "cell_type": "markdown",
   "id": "2edf7f17",
   "metadata": {},
   "source": [
    "******"
   ]
  },
  {
   "cell_type": "code",
   "execution_count": null,
   "id": "aa773c64",
   "metadata": {},
   "outputs": [],
   "source": []
  }
 ],
 "metadata": {
  "kernelspec": {
   "display_name": "cross-lingual-semantic-search",
   "language": "python",
   "name": "python3"
  },
  "language_info": {
   "codemirror_mode": {
    "name": "ipython",
    "version": 3
   },
   "file_extension": ".py",
   "mimetype": "text/x-python",
   "name": "python",
   "nbconvert_exporter": "python",
   "pygments_lexer": "ipython3",
   "version": "3.10.18"
  }
 },
 "nbformat": 4,
 "nbformat_minor": 5
}
