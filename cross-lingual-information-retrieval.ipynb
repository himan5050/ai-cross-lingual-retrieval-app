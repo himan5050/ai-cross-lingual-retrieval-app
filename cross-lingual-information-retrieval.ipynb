{
 "cells": [
  {
   "cell_type": "markdown",
   "id": "90fcbb49",
   "metadata": {},
   "source": [
    "# Cross-Lingual Semantic Information Retrieval using Transformer-based embedding alignment"
   ]
  },
  {
   "cell_type": "markdown",
   "id": "7209cf82",
   "metadata": {},
   "source": []
  }
 ],
 "metadata": {
  "language_info": {
   "name": "python"
  }
 },
 "nbformat": 4,
 "nbformat_minor": 5
}
