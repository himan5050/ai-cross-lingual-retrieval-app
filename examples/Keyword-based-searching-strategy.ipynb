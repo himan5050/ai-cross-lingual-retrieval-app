{
 "cells": [
  {
   "cell_type": "markdown",
   "id": "080f85ff",
   "metadata": {},
   "source": [
    "## Option 1: Simple keyword search."
   ]
  },
  {
   "cell_type": "markdown",
   "id": "1c0dd8eb",
   "metadata": {},
   "source": [
    "Just split documents into tokens and match queries with them."
   ]
  },
  {
   "cell_type": "code",
   "execution_count": 52,
   "id": "ab32086c",
   "metadata": {},
   "outputs": [],
   "source": [
    "import re\n",
    "\n",
    "# scikit-learn imports.\n",
    "from sklearn.feature_extraction.text import TfidfVectorizer\n",
    "from sklearn.metrics.pairwise import cosine_similarity\n",
    "\n",
    "from sentence_transformers import SentenceTransformer\n",
    "import faiss\n",
    "\n",
    "import numpy as np\n",
    "\n",
    "import time\n",
    "import math\n",
    "from collections import defaultdict\n",
    "\n",
    "import matplotlib.pyplot as plt"
   ]
  },
  {
   "cell_type": "code",
   "execution_count": 53,
   "id": "1ea9af55",
   "metadata": {},
   "outputs": [],
   "source": [
    "docs = [\n",
    "    \"Bonjour, je m'appelle Marie\",   # French\n",
    "    \"Hello, my name is John\",        # English\n",
    "    \"Hola, me llamo Carlos\",         # Spanish\n",
    "    \"Hallo, ich heiße Anna\",         # German\n",
    "    \"Ciao, mi chiamo Luca\"           # Italian\n",
    "]"
   ]
  },
  {
   "cell_type": "code",
   "execution_count": 54,
   "id": "cae6fdff",
   "metadata": {},
   "outputs": [],
   "source": [
    "def keyword_search(query, docs):\n",
    "    query_tokens = set(re.findall(r\"\\w+\", query.lower()))\n",
    "    results = []\n",
    "    for i, doc in enumerate(docs):\n",
    "        doc_tokens = set(re.findall(r\"\\w+\", doc.lower()))\n",
    "        overlap = len(query_tokens & doc_tokens)\n",
    "        if overlap > 0:\n",
    "            results.append((i, overlap))\n",
    "    results.sort(key=lambda x: -x[1])  # sort by score\n",
    "    return [docs[i] for i, _ in results]\n"
   ]
  },
  {
   "cell_type": "code",
   "execution_count": 55,
   "id": "2c0aada9",
   "metadata": {},
   "outputs": [
    {
     "name": "stdout",
     "output_type": "stream",
     "text": [
      "Keyword Search Results:\n",
      "['Hello, my name is John']\n"
     ]
    }
   ],
   "source": [
    "# Example\n",
    "print(\"Keyword Search Results:\")\n",
    "print(keyword_search(\"name John\", docs))"
   ]
  },
  {
   "cell_type": "markdown",
   "id": "23fc849d",
   "metadata": {},
   "source": [
    "### Option 2: TF-IDF Vectorization (scikit-learn)"
   ]
  },
  {
   "cell_type": "code",
   "execution_count": 56,
   "id": "8aae29f3",
   "metadata": {},
   "outputs": [],
   "source": [
    "vectorizer = TfidfVectorizer()\n",
    "tfidf_matrix = vectorizer.fit_transform(docs)"
   ]
  },
  {
   "cell_type": "code",
   "execution_count": 57,
   "id": "10cb26f7",
   "metadata": {},
   "outputs": [],
   "source": [
    "def tfidf_search(query, top_k=2):\n",
    "    query_vec = vectorizer.transform([query])\n",
    "    scores = cosine_similarity(query_vec, tfidf_matrix).flatten()\n",
    "    top_indices = scores.argsort()[::-1][:top_k]\n",
    "    return [(docs[i], scores[i]) for i in top_indices]"
   ]
  },
  {
   "cell_type": "code",
   "execution_count": 58,
   "id": "ede8f74b",
   "metadata": {},
   "outputs": [
    {
     "name": "stdout",
     "output_type": "stream",
     "text": [
      "TF-IDF Search Results:\n",
      "[('Hello, my name is John', 0.632455532033676), ('Ciao, mi chiamo Luca', 0.0)]\n"
     ]
    }
   ],
   "source": [
    "# Example\n",
    "print(\"TF-IDF Search Results:\")\n",
    "print(tfidf_search(\"name John\"))\n"
   ]
  },
  {
   "cell_type": "markdown",
   "id": "8c5fec62",
   "metadata": {},
   "source": [
    "### Keyword vs. Semantic Search"
   ]
  },
  {
   "cell_type": "code",
   "execution_count": 59,
   "id": "3293454e",
   "metadata": {},
   "outputs": [],
   "source": [
    "# Multilingual dataset\n",
    "docs = [\n",
    "    \"Bonjour, je m'appelle Marie\",   # French\n",
    "    \"Hello, my name is John\",        # English\n",
    "    \"Hola, me llamo Carlos\",         # Spanish\n",
    "    \"Hallo, ich heiße Anna\",         # German\n",
    "    \"Ciao, mi chiamo Luca\"           # Italian\n",
    "]"
   ]
  },
  {
   "cell_type": "code",
   "execution_count": 60,
   "id": "ab07d7d3",
   "metadata": {},
   "outputs": [],
   "source": [
    "# ---------------------------\n",
    "# 1. Keyword Search (TF-IDF)\n",
    "# ---------------------------\n",
    "vectorizer = TfidfVectorizer()\n",
    "tfidf_matrix = vectorizer.fit_transform(docs)"
   ]
  },
  {
   "cell_type": "code",
   "execution_count": 61,
   "id": "919bb213",
   "metadata": {},
   "outputs": [],
   "source": [
    "def keyword_search(query, top_k=2):\n",
    "    query_vec = vectorizer.transform([query])\n",
    "    scores = cosine_similarity(query_vec, tfidf_matrix).flatten()\n",
    "    top_indices = scores.argsort()[::-1][:top_k]\n",
    "    return [(docs[i], scores[i]) for i in top_indices]"
   ]
  },
  {
   "cell_type": "code",
   "execution_count": 62,
   "id": "26b5ced0",
   "metadata": {},
   "outputs": [
    {
     "name": "stderr",
     "output_type": "stream",
     "text": [
      "/Users/himanshusharma/anaconda3/envs/cross-lingual-semantic-search/lib/python3.10/site-packages/huggingface_hub/file_download.py:945: FutureWarning: `resume_download` is deprecated and will be removed in version 1.0.0. Downloads always resume when possible. If you want to force a new download, use `force_download=True`.\n",
      "  warnings.warn(\n"
     ]
    }
   ],
   "source": [
    "# ---------------------------\n",
    "# 2. Semantic Search (Dense Index with FAISS)\n",
    "# ---------------------------\n",
    "model = SentenceTransformer(\"sentence-transformers/paraphrase-multilingual-MiniLM-L12-v2\")\n",
    "embeddings = model.encode(docs, convert_to_numpy=True, normalize_embeddings=True)\n",
    "d = embeddings.shape[1]"
   ]
  },
  {
   "cell_type": "code",
   "execution_count": 63,
   "id": "cc9d9daa",
   "metadata": {},
   "outputs": [],
   "source": [
    "# Dense FAISS index\n",
    "index_dense = faiss.IndexFlatIP(d)\n",
    "index_dense.add(embeddings)"
   ]
  },
  {
   "cell_type": "code",
   "execution_count": 64,
   "id": "e87b0911",
   "metadata": {},
   "outputs": [],
   "source": [
    "def semantic_search(query, top_k=2):\n",
    "    query_vec = model.encode([query], convert_to_numpy=True, normalize_embeddings=True)\n",
    "    D, I = index_dense.search(query_vec, k=top_k)\n",
    "    return [(docs[idx], float(D[0][j])) for j, idx in enumerate(I[0])]"
   ]
  },
  {
   "cell_type": "code",
   "execution_count": 65,
   "id": "2a3ca48a",
   "metadata": {},
   "outputs": [],
   "source": [
    "# ---------------------------\n",
    "# 3. Test Queries\n",
    "# ---------------------------\n",
    "queries = [\n",
    "    \"My name is Pedro\",      # English quer\n",
    "    \"Me llamo Pedro\",        # Spanish query\n",
    "    \"Je m'appelle Pierre\"    # French query\n",
    "]"
   ]
  },
  {
   "cell_type": "code",
   "execution_count": 31,
   "id": "cb53ead9",
   "metadata": {},
   "outputs": [
    {
     "name": "stdout",
     "output_type": "stream",
     "text": [
      "==================================================\n",
      "🔎 Query: My name is Pedro\n",
      "\n",
      "Keyword Search Results:\n",
      "  Hello, my name is John  (score=0.7746)\n",
      "  Ciao, mi chiamo Luca  (score=0.0000)\n",
      "\n",
      "Semantic Search Results:\n",
      "  Hola, me llamo Carlos  (similarity=0.7587)\n",
      "  Ciao, mi chiamo Luca  (similarity=0.6668)\n",
      "==================================================\n",
      "🔎 Query: Me llamo Pedro\n",
      "\n",
      "Keyword Search Results:\n",
      "  Hola, me llamo Carlos  (score=0.7071)\n",
      "  Ciao, mi chiamo Luca  (score=0.0000)\n",
      "\n",
      "Semantic Search Results:\n",
      "  Hola, me llamo Carlos  (similarity=0.7655)\n",
      "  Ciao, mi chiamo Luca  (similarity=0.6843)\n",
      "==================================================\n",
      "🔎 Query: Je m'appelle Pierre\n",
      "\n",
      "Keyword Search Results:\n",
      "  Bonjour, je m'appelle Marie  (score=0.7071)\n",
      "  Ciao, mi chiamo Luca  (score=0.0000)\n",
      "\n",
      "Semantic Search Results:\n",
      "  Bonjour, je m'appelle Marie  (similarity=0.6548)\n",
      "  Hallo, ich heiße Anna  (similarity=0.6019)\n"
     ]
    }
   ],
   "source": [
    "for q in queries:\n",
    "    print(\"=\"*50)\n",
    "    print(f\"🔎 Query: {q}\")\n",
    "    \n",
    "    print(\"\\nKeyword Search Results:\")\n",
    "    for doc, score in keyword_search(q, top_k=2):\n",
    "        print(f\"  {doc}  (score={score:.4f})\")\n",
    "    \n",
    "    print(\"\\nSemantic Search Results:\")\n",
    "    for doc, score in semantic_search(q, top_k=2):\n",
    "        print(f\"  {doc}  (similarity={score:.4f})\")"
   ]
  },
  {
   "cell_type": "markdown",
   "id": "bf53621d",
   "metadata": {},
   "source": [
    "******"
   ]
  },
  {
   "cell_type": "markdown",
   "id": "0ed4479c",
   "metadata": {},
   "source": [
    "## Formal experimental setup."
   ]
  },
  {
   "cell_type": "code",
   "execution_count": 66,
   "id": "4140351f",
   "metadata": {},
   "outputs": [],
   "source": [
    "# ---------- Data ----------\n",
    "docs = [\n",
    "    # id, text (multilingual introductions of a person)\n",
    "    (0, \"Bonjour, je m'appelle Marie\"),\n",
    "    (1, \"Hello, my name is John\"),\n",
    "    (2, \"Hola, me llamo Carlos\"),\n",
    "    (3, \"Hallo, ich heiße Anna\"),\n",
    "    (4, \"Ciao, mi chiamo Luca\"),\n",
    "    (5, \"Me llamo Juan y vivo en Madrid\"),\n",
    "    (6, \"Je m'appelle Pierre et j'habite à Paris\"),\n",
    "    (7, \"My name is Mary and I live in London\"),\n",
    "    (8, \"Ich heiße Johann und wohne in Berlin\"),\n",
    "    (9, \"Mi nombre es Pedro y estudio en Barcelona\"),\n",
    "]"
   ]
  },
  {
   "cell_type": "code",
   "execution_count": 67,
   "id": "4c9f3f0f",
   "metadata": {},
   "outputs": [],
   "source": [
    "# Queries in different languages meaning roughly “my name is X”\n",
    "queries = {\n",
    "    \"q_en\": \"My name is Pedro\",\n",
    "    \"q_es\": \"Me llamo Pedro\",\n",
    "    \"q_fr\": \"Je m'appelle Pierre\",\n",
    "    \"q_de\": \"Ich heiße Johann\",\n",
    "    \"q_it\": \"Mi chiamo Luca\",\n",
    "}"
   ]
  },
  {
   "cell_type": "code",
   "execution_count": 68,
   "id": "e0fc89d7",
   "metadata": {},
   "outputs": [],
   "source": [
    "# ---------- Ground truth (qrels) ----------\n",
    "# Mark which doc ids should be relevant for each query (not exhaustive, just enough to evaluate)\n",
    "# You can extend these as your dataset grows.\n",
    "qrels = {\n",
    "    \"q_en\": {9},                 # “My name is Pedro” ~ doc 9 (Spanish but same meaning)\n",
    "    \"q_es\": {9},                 # Spanish query -> doc 9\n",
    "    \"q_fr\": {6},                 # French query -> doc 6\n",
    "    \"q_de\": {8},                 # German query -> doc 8\n",
    "    \"q_it\": {4},                 # Italian query -> doc 4\n",
    "}"
   ]
  },
  {
   "cell_type": "code",
   "execution_count": 69,
   "id": "c5340a07",
   "metadata": {},
   "outputs": [],
   "source": [
    "# ---------- Utilities: metrics ----------\n",
    "def dcg(rels):\n",
    "    return sum((rel / math.log2(i+2)) for i, rel in enumerate(rels))\n",
    "\n",
    "def ndcg_at_k(pred, gold, k):\n",
    "    gains = [1 if d in gold else 0 for d in pred[:k]]\n",
    "    ideal = sorted(gains, reverse=True)\n",
    "    return 0.0 if sum(ideal) == 0 else dcg(gains) / dcg(ideal)\n",
    "\n",
    "def precision_at_k(pred, gold, k):\n",
    "    hit = sum(1 for d in pred[:k] if d in gold)\n",
    "    return hit / k\n",
    "\n",
    "def recall_at_k(pred, gold, k):\n",
    "    if not gold: return 0.0\n",
    "    hit = sum(1 for d in pred[:k] if d in gold)\n",
    "    return hit / len(gold)\n",
    "\n",
    "def mrr(pred, gold):\n",
    "    for i, d in enumerate(pred):\n",
    "        if d in gold:\n",
    "            return 1.0 / (i+1)\n",
    "    return 0.0"
   ]
  },
  {
   "cell_type": "code",
   "execution_count": 70,
   "id": "74193e18",
   "metadata": {},
   "outputs": [],
   "source": [
    "# ---------- Baseline: Keyword (TF-IDF) ----------\n",
    "doc_texts = [t for _, t in docs]\n",
    "doc_ids = [i for i, _ in docs]\n",
    "\n",
    "tfidf = TfidfVectorizer()\n",
    "tfidf_matrix = tfidf.fit_transform(doc_texts)\n"
   ]
  },
  {
   "cell_type": "code",
   "execution_count": 71,
   "id": "3cf06e34",
   "metadata": {},
   "outputs": [],
   "source": [
    "def tfidf_search(q, top_k=5):\n",
    "    qv = tfidf.transform([q])\n",
    "    scores = cosine_similarity(qv, tfidf_matrix).ravel()\n",
    "    order = scores.argsort()[::-1][:top_k]\n",
    "    return [doc_ids[i] for i in order], [float(scores[i]) for i in order]"
   ]
  },
  {
   "cell_type": "code",
   "execution_count": 72,
   "id": "b3ef2f6c",
   "metadata": {},
   "outputs": [],
   "source": [
    "# ---------- Semantic: Dense embeddings + FAISS (optional if installed) ----------\n",
    "semantic_available = True\n",
    "try:\n",
    "    import faiss\n",
    "    from sentence_transformers import SentenceTransformer\n",
    "except Exception as e:\n",
    "    semantic_available = False\n",
    "\n",
    "if semantic_available:\n",
    "    model = SentenceTransformer(\"sentence-transformers/paraphrase-multilingual-MiniLM-L12-v2\")\n",
    "    import numpy as np\n",
    "    emb = model.encode(doc_texts, convert_to_numpy=True, normalize_embeddings=True)\n",
    "    dim = emb.shape[1]\n",
    "    index = faiss.IndexFlatIP(dim)\n",
    "    index.add(emb)\n",
    "\n",
    "    def semantic_search(q, top_k=5):\n",
    "        qv = model.encode([q], convert_to_numpy=True, normalize_embeddings=True)\n",
    "        D, I = index.search(qv, k=top_k)\n",
    "        return [doc_ids[i] for i in I[0]], [float(d) for d in D[0]]\n",
    "else:\n",
    "    def semantic_search(q, top_k=5):\n",
    "        raise RuntimeError(\"Install sentence-transformers and faiss-cpu to run semantic search.\")"
   ]
  },
  {
   "cell_type": "code",
   "execution_count": 73,
   "id": "a7908e45",
   "metadata": {},
   "outputs": [],
   "source": [
    "# ---------- Evaluation loop ----------\n",
    "methods = [\"keyword\"]\n",
    "if semantic_available:\n",
    "    methods.append(\"semantic\")"
   ]
  },
  {
   "cell_type": "code",
   "execution_count": 74,
   "id": "c3d6ae42",
   "metadata": {},
   "outputs": [],
   "source": [
    "K = 5\n",
    "results = defaultdict(lambda: defaultdict(list))  # results[method][metric] = list of values\n",
    "timings = defaultdict(list)"
   ]
  },
  {
   "cell_type": "code",
   "execution_count": 75,
   "id": "bdb641b3",
   "metadata": {},
   "outputs": [],
   "source": [
    "for qid, qtext in queries.items():\n",
    "    gold = qrels.get(qid, set())\n",
    "\n",
    "    # Keyword\n",
    "    t0 = time.time()\n",
    "    pred_kw, _ = tfidf_search(qtext, top_k=K)\n",
    "    t1 = time.time()\n",
    "    timings[\"keyword\"].append(t1 - t0)\n",
    "\n",
    "    results[\"keyword\"][\"P@5\"].append(precision_at_k(pred_kw, gold, K))\n",
    "    results[\"keyword\"][\"R@5\"].append(recall_at_k(pred_kw, gold, K))\n",
    "    results[\"keyword\"][\"nDCG@5\"].append(ndcg_at_k(pred_kw, gold, K))\n",
    "    results[\"keyword\"][\"MRR\"].append(mrr(pred_kw, gold))\n",
    "\n",
    "    # Semantic\n",
    "    if \"semantic\" in methods:\n",
    "        t0 = time.time()\n",
    "        pred_sem, _ = semantic_search(qtext, top_k=K)\n",
    "        t1 = time.time()\n",
    "        timings[\"semantic\"].append(t1 - t0)\n",
    "\n",
    "        results[\"semantic\"][\"P@5\"].append(precision_at_k(pred_sem, gold, K))\n",
    "        results[\"semantic\"][\"R@5\"].append(recall_at_k(pred_sem, gold, K))\n",
    "        results[\"semantic\"][\"nDCG@5\"].append(ndcg_at_k(pred_sem, gold, K))\n",
    "        results[\"semantic\"][\"MRR\"].append(mrr(pred_sem, gold))\n"
   ]
  },
  {
   "cell_type": "code",
   "execution_count": 76,
   "id": "72480d37",
   "metadata": {},
   "outputs": [],
   "source": [
    "# ---------- Aggregate + report ----------\n",
    "def avg(x): return sum(x)/len(x) if x else 0.0\n"
   ]
  },
  {
   "cell_type": "code",
   "execution_count": 77,
   "id": "ad2441b2",
   "metadata": {},
   "outputs": [
    {
     "name": "stdout",
     "output_type": "stream",
     "text": [
      "\n",
      "=== Aggregate Metrics (mean over queries) ===\n",
      "\n",
      "[KEYWORD]\n",
      "P@5     : 0.200\n",
      "R@5     : 1.000\n",
      "nDCG@5  : 0.800\n",
      "MRR     : 0.733\n",
      "Latency : 1.5 ms/query\n",
      "\n",
      "[SEMANTIC]\n",
      "P@5     : 0.200\n",
      "R@5     : 1.000\n",
      "nDCG@5  : 0.926\n",
      "MRR     : 0.900\n",
      "Latency : 21.2 ms/query\n"
     ]
    }
   ],
   "source": [
    "print(\"\\n=== Aggregate Metrics (mean over queries) ===\")\n",
    "for m in methods:\n",
    "    print(f\"\\n[{m.upper()}]\")\n",
    "    print(f\"P@5     : {avg(results[m]['P@5']):.3f}\")\n",
    "    print(f\"R@5     : {avg(results[m]['R@5']):.3f}\")\n",
    "    print(f\"nDCG@5  : {avg(results[m]['nDCG@5']):.3f}\")\n",
    "    print(f\"MRR     : {avg(results[m]['MRR']):.3f}\")\n",
    "    print(f\"Latency : {avg(timings[m])*1000:.1f} ms/query\")"
   ]
  },
  {
   "cell_type": "code",
   "execution_count": 78,
   "id": "75fedf4a",
   "metadata": {},
   "outputs": [
    {
     "name": "stdout",
     "output_type": "stream",
     "text": [
      "\n",
      "=== Per-Query Top-5 (ids) ===\n",
      "\n",
      "Query q_en: My name is Pedro\n",
      "  Keyword : [1, 7, 9, 8, 5]\n",
      "  Semantic: [9, 2, 5, 4, 6]\n",
      "\n",
      "Query q_es: Me llamo Pedro\n",
      "  Keyword : [2, 5, 9, 8, 6]\n",
      "  Semantic: [9, 2, 5, 4, 6]\n",
      "\n",
      "Query q_fr: Je m'appelle Pierre\n",
      "  Keyword : [6, 0, 8, 9, 5]\n",
      "  Semantic: [6, 8, 0, 9, 5]\n",
      "\n",
      "Query q_de: Ich heiße Johann\n",
      "  Keyword : [8, 3, 9, 7, 5]\n",
      "  Semantic: [1, 8, 0, 3, 4]\n",
      "\n",
      "Query q_it: Mi chiamo Luca\n",
      "  Keyword : [4, 9, 8, 7, 6]\n",
      "  Semantic: [4, 2, 5, 9, 0]\n"
     ]
    }
   ],
   "source": [
    "# ---------- Optional: simple per-query printout ----------\n",
    "print(\"\\n=== Per-Query Top-5 (ids) ===\")\n",
    "for qid, qtext in queries.items():\n",
    "    print(f\"\\nQuery {qid}: {qtext}\")\n",
    "    pred_kw, sc_kw = tfidf_search(qtext, top_k=K)\n",
    "    print(\"  Keyword :\", pred_kw)\n",
    "    if \"semantic\" in methods:\n",
    "        pred_sem, sc_sem = semantic_search(qtext, top_k=K)\n",
    "        print(\"  Semantic:\", pred_sem)"
   ]
  },
  {
   "cell_type": "code",
   "execution_count": 79,
   "id": "2b21cb7f",
   "metadata": {},
   "outputs": [
    {
     "data": {
      "image/png": "[encoded data removed]",
      "text/plain": [
       "<Figure size 640x480 with 1 Axes>"
      ]
     },
     "metadata": {},
     "output_type": "display_data"
    },
    {
     "data": {
      "image/png": "[encoded data removed]",
      "text/plain": [
       "<Figure size 640x480 with 1 Axes>"
      ]
     },
     "metadata": {},
     "output_type": "display_data"
    },
    {
     "data": {
      "image/png": "[encoded data removed]",
      "text/plain": [
       "<Figure size 640x480 with 1 Axes>"
      ]
     },
     "metadata": {},
     "output_type": "display_data"
    },
    {
     "data": {
      "image/png": "[encoded data removed]",
      "text/plain": [
       "<Figure size 640x480 with 1 Axes>"
      ]
     },
     "metadata": {},
     "output_type": "display_data"
    },
    {
     "data": {
      "image/png": "[encoded data removed]",
      "text/plain": [
       "<Figure size 640x480 with 1 Axes>"
      ]
     },
     "metadata": {},
     "output_type": "display_data"
    }
   ],
   "source": [
    "# ---------- Plots (matplotlib; one figure per chart, default colors) ----------\n",
    "try:\n",
    "    import matplotlib.pyplot as plt\n",
    "\n",
    "    for metric in [\"P@5\", \"R@5\", \"nDCG@5\", \"MRR\"]:\n",
    "        xs = list(range(len(methods)))\n",
    "        ys = [avg(results[m][metric]) for m in methods]\n",
    "        plt.figure()\n",
    "        plt.bar(xs, ys)                    # no color/style set (per instructions)\n",
    "        plt.xticks(xs, [m.title() for m in methods])\n",
    "        plt.ylabel(metric)\n",
    "        plt.title(f\"{metric} comparison\")\n",
    "        plt.show()\n",
    "\n",
    "    # Latency plot\n",
    "    xs = list(range(len(methods)))\n",
    "    ys = [avg(timings[m])*1000 for m in methods]\n",
    "    plt.figure()\n",
    "    plt.bar(xs, ys)\n",
    "    plt.xticks(xs, [m.title() for m in methods])\n",
    "    plt.ylabel(\"Latency (ms/query)\")\n",
    "    plt.title(\"Latency comparison\")\n",
    "    plt.show()\n",
    "\n",
    "except Exception as e:\n",
    "    print(\"Plotting skipped:\", e)"
   ]
  },
  {
   "cell_type": "markdown",
   "id": "4b367ce4",
   "metadata": {},
   "source": [
    "******"
   ]
  },
  {
   "cell_type": "code",
   "execution_count": null,
   "id": "c8272735",
   "metadata": {},
   "outputs": [],
   "source": []
  }
 ],
 "metadata": {
  "kernelspec": {
   "display_name": "cross-lingual-semantic-search",
   "language": "python",
   "name": "python3"
  },
  "language_info": {
   "codemirror_mode": {
    "name": "ipython",
    "version": 3
   },
   "file_extension": ".py",
   "mimetype": "text/x-python",
   "name": "python",
   "nbconvert_exporter": "python",
   "pygments_lexer": "ipython3",
   "version": "3.10.18"
  }
 },
 "nbformat": 4,
 "nbformat_minor": 5
}
