{
 "cells": [
  {
   "cell_type": "markdown",
   "id": "4f79c471",
   "metadata": {},
   "source": [
    "## Embedding strategies:\n"
   ]
  },
  {
   "cell_type": "markdown",
   "id": "6163188b",
   "metadata": {},
   "source": [
    "### Break large text document into chunks."
   ]
  },
  {
   "cell_type": "markdown",
   "id": "55a4993e",
   "metadata": {},
   "source": [
    "Full pipeline code example."
   ]
  },
  {
   "cell_type": "code",
   "execution_count": 33,
   "id": "4e47b841",
   "metadata": {},
   "outputs": [
    {
     "name": "stderr",
     "output_type": "stream",
     "text": [
      "[nltk_data] Downloading package punkt to\n",
      "[nltk_data]     /Users/himanshusharma/nltk_data...\n",
      "[nltk_data]   Package punkt is already up-to-date!\n"
     ]
    },
    {
     "data": {
      "text/plain": [
       "True"
      ]
     },
     "execution_count": 33,
     "metadata": {},
     "output_type": "execute_result"
    }
   ],
   "source": [
    "# Import torch and faiss for model and vector indexing.\n",
    "import torch\n",
    "import faiss\n",
    "\n",
    "# Import time for performance measurement.\n",
    "import time\n",
    "\n",
    "# Import other required libraries.\n",
    "import numpy as np\n",
    "import pandas as pd\n",
    "\n",
    "# Import SentenceTransformer for embedding generation.\n",
    "from sentence_transformers import SentenceTransformer\n",
    "\n",
    "# Ignore warnings for cleaner output.\n",
    "import warnings\n",
    "warnings.filterwarnings(\"ignore\", category=FutureWarning)\n",
    "\n",
    "# Import pickle for saving and loading objects.\n",
    "import pickle\n",
    "\n",
    "# Import sqlite3 for database operations.\n",
    "import sqlite3\n",
    "\n",
    "import nltk\n",
    "from nltk.tokenize import sent_tokenize\n",
    "\n",
    "# Download punkt if not already\n",
    "nltk.download(\"punkt\")"
   ]
  },
  {
   "cell_type": "markdown",
   "id": "3404fb29",
   "metadata": {},
   "source": [
    "Load documents."
   ]
  },
  {
   "cell_type": "code",
   "execution_count": 34,
   "id": "5801bc1f",
   "metadata": {},
   "outputs": [],
   "source": [
    "# -------------------------------------------------\n",
    "# 1. Load your dataset\n",
    "# -------------------------------------------------\n",
    "# Example: DataFrame with 'doc_id' and 'text'L\n",
    "data = pd.DataFrame({\n",
    "    \"doc_id\": [1, 2, 3],\n",
    "    \"text\": [\n",
    "        \"It is my pleasure to welcome you to this second regular session of the UNICEF Executive Board for 2025. I begin by extending my sincere gratitude to Ambassador Hikmat, President of the Executive Board, and to the entire Bureau for your steady leadership and support.We meet at a time of profound challenge for the world’s children. Cuts to global assistance are putting young lives and futures at risk just when they need us most. Many governments have already reduced their development and humanitarian budgets, and UNICEF expects at least a 20 per cent drop in income over the coming four years.Children are growing up amidst multiple, overlapping threats — conflict, displacement, climate shocks, poverty and discrimination — with too few safety nets to protect them. Essential services that keep them alive, healthy, and safe are being cut back or shut down.According to a recent study in The Lancet, cuts in development and humanitarian aid announced in 2025 could result in an additional 14 million deaths globally by 2030 — including 4.5 million children under the age of five. These are not distant risks. They are the immediate, devastating consequences when health systems, nutrition programmes, education services and clean water are taken away from the youngest members of society.When children lose access to vaccines, diseases spread across borders. When they go without nutrition, education or protection, the desperation that follows fuels instability and displacement that ripple outward. The more fragile children’s lives become, the more fragile the world becomesYet we also know something else: when we invest in children, the returns are extraordinary. Decades of evidence prove that smart investments in child health, education, protection and resilience do not just save lives — they build stronger, safer and more prosperous societies.That is why the discussions we will have this week on our new Strategic Plan and the Integrated Budget could not be more important. These are the tools that will shape how UNICEF continues to deliver for children in this most difficult environment.\",\n",
    "        \"Excellencies … UNICEF is already one of the most cost-effective organizations in the global development and humanitarian system. But in the face of the steepest drop in projected external funding in memory, Through our Future Focus Initiative, we are strategically repositioning UNICEF to continue to deliver for every child, especially the most vulnerable, in a rapidly changing world … and to implement the ambitious targets set out in our new Strategic Plan in a resource constrained environment. We are taking bold and necessary steps to become leaner, We are also transforming our approach to delivering technical assistance for our programmes to be even faster, more context-specific and closer to children. This includes establishing four Centres of Excellence to provide high-quality, tailored technical assistance globally, driving more substantial and sustainable impacts at scale. more agile, and closer to the children we serve. we are not standing still.Here is the second document. It also has multiple paragraphs. Semantic search should work well.\",\n",
    "        \"तीन यादगार दिनों तक मुझे देखभाल करने वाले परिवारों, बच्चों और युवाओं, समुदाय और सरकारी नेताओं, और हमारे समर्पित यूनिसेफ बिहार के साथियों के साथ चलने का अवसर मिला। मैंने देखा कि कैसे एक साथ मिलकर हम बच्चों के जीवन में स्थायी बदलाव ला सकते हैं। और मैंने महसूस किया कि जब हम बच्चों को सशक्त बनाते हैं, तो वे अपने परिवारों और समुदायों को भी सशक्त बनाते हैं। बिहार में, मैंने देखा कि कैसे शिक्षा, स्वास्थ्य देखभाल, पोषण, और संरक्षण के क्षेत्र में हमारे प्रयास बच्चों के जीवन को बेहतर बना रहे हैं। मैंने उन बच्चों से मुलाकात की जो अब स्कूल जा रहे हैं, जो स्वस्थ और खुश हैं, और जो अपने सपनों को पूरा करने के लिए प्रेरित हैं। मैंने उन परिवारों से भी मुलाकात की जो अब अपने बच्चों के लिए बेहतर भविष्य की उम्मीद कर रहे हैं। मैंने सरकारी अधिकारियों से भी मुलाकात की जो बच्चों के अधिकारों को सुनिश्चित करने के लिए प्रतिबद्ध हैं। मैं यूनिसेफ बिहार के समर्पित कर्मचारियों से भी मिली जो हर दिन बच्चों के लिए काम कर रहे हैं। मैं उनके समर्पण और जुनून से प्रेरित हुई। बिहार में मेरा अनुभव यादगार और प्रेरणादायक रहा। मैंने देखा कि कैसे एक साथ मिलकर हम बच्चों के जीवन में स्थायी बदलाव ला सकते हैं। और मैंने महसूस किया कि जब हम बच्चों को सशक्त बनाते हैं, तो वे अपने परिवारों और समुदायों को भी सशक्त बनाते हैं। मैं यूनिसेफ के साथ काम करने के लिए आभारी हूँ और मैं बिहार में बच्चों के लिए बेहतर भविष्य बनाने के लिए प्रतिबद्ध हूँ।\"\n",
    "    ]\n",
    "})"
   ]
  },
  {
   "cell_type": "code",
   "execution_count": 35,
   "id": "6f4e9556",
   "metadata": {},
   "outputs": [
    {
     "data": {
      "text/html": [
       "<div>\n",
       "<style scoped>\n",
       "    .dataframe tbody tr th:only-of-type {\n",
       "        vertical-align: middle;\n",
       "    }\n",
       "\n",
       "    .dataframe tbody tr th {\n",
       "        vertical-align: top;\n",
       "    }\n",
       "\n",
       "    .dataframe thead th {\n",
       "        text-align: right;\n",
       "    }\n",
       "</style>\n",
       "<table border=\"1\" class=\"dataframe\">\n",
       "  <thead>\n",
       "    <tr style=\"text-align: right;\">\n",
       "      <th></th>\n",
       "      <th>doc_id</th>\n",
       "      <th>text</th>\n",
       "    </tr>\n",
       "  </thead>\n",
       "  <tbody>\n",
       "    <tr>\n",
       "      <th>0</th>\n",
       "      <td>1</td>\n",
       "      <td>It is my pleasure to welcome you to this secon...</td>\n",
       "    </tr>\n",
       "    <tr>\n",
       "      <th>1</th>\n",
       "      <td>2</td>\n",
       "      <td>Excellencies … UNICEF is already one of the mo...</td>\n",
       "    </tr>\n",
       "    <tr>\n",
       "      <th>2</th>\n",
       "      <td>3</td>\n",
       "      <td>तीन यादगार दिनों तक मुझे देखभाल करने वाले परिव...</td>\n",
       "    </tr>\n",
       "  </tbody>\n",
       "</table>\n",
       "</div>"
      ],
      "text/plain": [
       "   doc_id                                               text\n",
       "0       1  It is my pleasure to welcome you to this secon...\n",
       "1       2  Excellencies … UNICEF is already one of the mo...\n",
       "2       3  तीन यादगार दिनों तक मुझे देखभाल करने वाले परिव..."
      ]
     },
     "execution_count": 35,
     "metadata": {},
     "output_type": "execute_result"
    }
   ],
   "source": [
    "data.head()"
   ]
  },
  {
   "cell_type": "code",
   "execution_count": 36,
   "id": "94e3ced1",
   "metadata": {},
   "outputs": [],
   "source": [
    "# -------------------------------------------------\n",
    "# 2. Load Sentence Transformer model\n",
    "# -------------------------------------------------\n",
    "# Load a pre-trained SentenceTransformer model\n",
    "model_name = 'sentence-transformers/paraphrase-multilingual-MiniLM-L12-v2'\n",
    "device = \"cuda\" if torch.cuda.is_available() else \"cpu\"\n",
    "model = SentenceTransformer(model_name, device=device)"
   ]
  },
  {
   "cell_type": "code",
   "execution_count": 37,
   "id": "eaabb62b",
   "metadata": {},
   "outputs": [
    {
     "data": {
      "text/plain": [
       "384"
      ]
     },
     "execution_count": 37,
     "metadata": {},
     "output_type": "execute_result"
    }
   ],
   "source": [
    "embedding_dim = model.get_sentence_embedding_dimension()\n",
    "embedding_dim"
   ]
  },
  {
   "cell_type": "code",
   "execution_count": 38,
   "id": "1280b7d9",
   "metadata": {},
   "outputs": [],
   "source": [
    "# -------------------------------------------------\n",
    "# 3. Function: Split into chunks\n",
    "# -------------------------------------------------\n",
    "def chunk_document(text, doc_id, chunk_size=1):\n",
    "    sentences = sent_tokenize(text)\n",
    "    chunks = [\" \".join(sentences[i:i+chunk_size]) for i in range(0, len(sentences), chunk_size)]\n",
    "    return [{\"doc_id\": doc_id, \"chunk_id\": idx, \"chunk\": chunk} for idx, chunk in enumerate(chunks)]"
   ]
  },
  {
   "cell_type": "code",
   "execution_count": 41,
   "id": "95e188df",
   "metadata": {},
   "outputs": [
    {
     "name": "stdout",
     "output_type": "stream",
     "text": [
      "Chunked DataFrame:\n",
      "     doc_id  chunk_id                                              chunk\n",
      "0        1         0  It is my pleasure to welcome you to this secon...\n",
      "1        1         1  I begin by extending my sincere gratitude to A...\n",
      "2        1         2  Cuts to global assistance are putting young li...\n",
      "3        1         3  Many governments have already reduced their de...\n",
      "4        1         4  Essential services that keep them alive, healt...\n",
      "5        1         5                       These are not distant risks.\n",
      "6        1         6  They are the immediate, devastating consequenc...\n",
      "7        1         7  When they go without nutrition, education or p...\n",
      "8        1         8  The more fragile children’s lives become, the ...\n",
      "9        1         9  Decades of evidence prove that smart investmen...\n",
      "10       1        10  These are the tools that will shape how UNICEF...\n",
      "11       2         0  Excellencies … UNICEF is already one of the mo...\n",
      "12       2         1  But in the face of the steepest drop in projec...\n",
      "13       2         2  We are taking bold and necessary steps to beco...\n",
      "14       2         3  This includes establishing four Centres of Exc...\n",
      "15       2         4   more agile, and closer to the children we serve.\n",
      "16       2         5  we are not standing still.Here is the second d...\n",
      "17       2         6                   It also has multiple paragraphs.\n",
      "18       2         7                  Semantic search should work well.\n",
      "19       3         0  तीन यादगार दिनों तक मुझे देखभाल करने वाले परिव...\n"
     ]
    }
   ],
   "source": [
    "# Apply chunking\n",
    "chunked_docs = []\n",
    "for _, row in data.iterrows():\n",
    "    chunked_docs.extend(chunk_document(row[\"text\"], row[\"doc_id\"], chunk_size=1))\n",
    "\n",
    "chunk_df = pd.DataFrame(chunked_docs)\n",
    "print(\"Chunked DataFrame:\\n\", chunk_df)"
   ]
  },
  {
   "cell_type": "code",
   "execution_count": 42,
   "id": "44898347",
   "metadata": {},
   "outputs": [
    {
     "data": {
      "text/html": [
       "<div>\n",
       "<style scoped>\n",
       "    .dataframe tbody tr th:only-of-type {\n",
       "        vertical-align: middle;\n",
       "    }\n",
       "\n",
       "    .dataframe tbody tr th {\n",
       "        vertical-align: top;\n",
       "    }\n",
       "\n",
       "    .dataframe thead th {\n",
       "        text-align: right;\n",
       "    }\n",
       "</style>\n",
       "<table border=\"1\" class=\"dataframe\">\n",
       "  <thead>\n",
       "    <tr style=\"text-align: right;\">\n",
       "      <th></th>\n",
       "      <th>doc_id</th>\n",
       "      <th>chunk_id</th>\n",
       "      <th>chunk</th>\n",
       "    </tr>\n",
       "  </thead>\n",
       "  <tbody>\n",
       "    <tr>\n",
       "      <th>0</th>\n",
       "      <td>1</td>\n",
       "      <td>0</td>\n",
       "      <td>It is my pleasure to welcome you to this secon...</td>\n",
       "    </tr>\n",
       "    <tr>\n",
       "      <th>1</th>\n",
       "      <td>1</td>\n",
       "      <td>1</td>\n",
       "      <td>I begin by extending my sincere gratitude to A...</td>\n",
       "    </tr>\n",
       "    <tr>\n",
       "      <th>2</th>\n",
       "      <td>1</td>\n",
       "      <td>2</td>\n",
       "      <td>Cuts to global assistance are putting young li...</td>\n",
       "    </tr>\n",
       "    <tr>\n",
       "      <th>3</th>\n",
       "      <td>1</td>\n",
       "      <td>3</td>\n",
       "      <td>Many governments have already reduced their de...</td>\n",
       "    </tr>\n",
       "    <tr>\n",
       "      <th>4</th>\n",
       "      <td>1</td>\n",
       "      <td>4</td>\n",
       "      <td>Essential services that keep them alive, healt...</td>\n",
       "    </tr>\n",
       "    <tr>\n",
       "      <th>5</th>\n",
       "      <td>1</td>\n",
       "      <td>5</td>\n",
       "      <td>These are not distant risks.</td>\n",
       "    </tr>\n",
       "    <tr>\n",
       "      <th>6</th>\n",
       "      <td>1</td>\n",
       "      <td>6</td>\n",
       "      <td>They are the immediate, devastating consequenc...</td>\n",
       "    </tr>\n",
       "    <tr>\n",
       "      <th>7</th>\n",
       "      <td>1</td>\n",
       "      <td>7</td>\n",
       "      <td>When they go without nutrition, education or p...</td>\n",
       "    </tr>\n",
       "    <tr>\n",
       "      <th>8</th>\n",
       "      <td>1</td>\n",
       "      <td>8</td>\n",
       "      <td>The more fragile children’s lives become, the ...</td>\n",
       "    </tr>\n",
       "    <tr>\n",
       "      <th>9</th>\n",
       "      <td>1</td>\n",
       "      <td>9</td>\n",
       "      <td>Decades of evidence prove that smart investmen...</td>\n",
       "    </tr>\n",
       "    <tr>\n",
       "      <th>10</th>\n",
       "      <td>1</td>\n",
       "      <td>10</td>\n",
       "      <td>These are the tools that will shape how UNICEF...</td>\n",
       "    </tr>\n",
       "    <tr>\n",
       "      <th>11</th>\n",
       "      <td>2</td>\n",
       "      <td>0</td>\n",
       "      <td>Excellencies … UNICEF is already one of the mo...</td>\n",
       "    </tr>\n",
       "    <tr>\n",
       "      <th>12</th>\n",
       "      <td>2</td>\n",
       "      <td>1</td>\n",
       "      <td>But in the face of the steepest drop in projec...</td>\n",
       "    </tr>\n",
       "    <tr>\n",
       "      <th>13</th>\n",
       "      <td>2</td>\n",
       "      <td>2</td>\n",
       "      <td>We are taking bold and necessary steps to beco...</td>\n",
       "    </tr>\n",
       "    <tr>\n",
       "      <th>14</th>\n",
       "      <td>2</td>\n",
       "      <td>3</td>\n",
       "      <td>This includes establishing four Centres of Exc...</td>\n",
       "    </tr>\n",
       "    <tr>\n",
       "      <th>15</th>\n",
       "      <td>2</td>\n",
       "      <td>4</td>\n",
       "      <td>more agile, and closer to the children we serve.</td>\n",
       "    </tr>\n",
       "    <tr>\n",
       "      <th>16</th>\n",
       "      <td>2</td>\n",
       "      <td>5</td>\n",
       "      <td>we are not standing still.Here is the second d...</td>\n",
       "    </tr>\n",
       "    <tr>\n",
       "      <th>17</th>\n",
       "      <td>2</td>\n",
       "      <td>6</td>\n",
       "      <td>It also has multiple paragraphs.</td>\n",
       "    </tr>\n",
       "    <tr>\n",
       "      <th>18</th>\n",
       "      <td>2</td>\n",
       "      <td>7</td>\n",
       "      <td>Semantic search should work well.</td>\n",
       "    </tr>\n",
       "    <tr>\n",
       "      <th>19</th>\n",
       "      <td>3</td>\n",
       "      <td>0</td>\n",
       "      <td>तीन यादगार दिनों तक मुझे देखभाल करने वाले परिव...</td>\n",
       "    </tr>\n",
       "  </tbody>\n",
       "</table>\n",
       "</div>"
      ],
      "text/plain": [
       "    doc_id  chunk_id                                              chunk\n",
       "0        1         0  It is my pleasure to welcome you to this secon...\n",
       "1        1         1  I begin by extending my sincere gratitude to A...\n",
       "2        1         2  Cuts to global assistance are putting young li...\n",
       "3        1         3  Many governments have already reduced their de...\n",
       "4        1         4  Essential services that keep them alive, healt...\n",
       "5        1         5                       These are not distant risks.\n",
       "6        1         6  They are the immediate, devastating consequenc...\n",
       "7        1         7  When they go without nutrition, education or p...\n",
       "8        1         8  The more fragile children’s lives become, the ...\n",
       "9        1         9  Decades of evidence prove that smart investmen...\n",
       "10       1        10  These are the tools that will shape how UNICEF...\n",
       "11       2         0  Excellencies … UNICEF is already one of the mo...\n",
       "12       2         1  But in the face of the steepest drop in projec...\n",
       "13       2         2  We are taking bold and necessary steps to beco...\n",
       "14       2         3  This includes establishing four Centres of Exc...\n",
       "15       2         4   more agile, and closer to the children we serve.\n",
       "16       2         5  we are not standing still.Here is the second d...\n",
       "17       2         6                   It also has multiple paragraphs.\n",
       "18       2         7                  Semantic search should work well.\n",
       "19       3         0  तीन यादगार दिनों तक मुझे देखभाल करने वाले परिव..."
      ]
     },
     "execution_count": 42,
     "metadata": {},
     "output_type": "execute_result"
    }
   ],
   "source": [
    "chunk_df"
   ]
  },
  {
   "cell_type": "markdown",
   "id": "786306ea",
   "metadata": {},
   "source": [
    "### Embedding using batches."
   ]
  },
  {
   "cell_type": "code",
   "execution_count": 43,
   "id": "40900dc8",
   "metadata": {},
   "outputs": [],
   "source": [
    "# Batch encoding function\n",
    "def encode_in_batches(texts, batch_size=128):\n",
    "    for i in range(0, len(texts), batch_size):\n",
    "        yield texts[i:i+batch_size]"
   ]
  },
  {
   "cell_type": "code",
   "execution_count": 44,
   "id": "6dd306ad",
   "metadata": {},
   "outputs": [
    {
     "data": {
      "text/plain": [
       "['It is my pleasure to welcome you to this second regular session of the UNICEF Executive Board for 2025.',\n",
       " 'I begin by extending my sincere gratitude to Ambassador Hikmat, President of the Executive Board, and to the entire Bureau for your steady leadership and support.We meet at a time of profound challenge for the world’s children.',\n",
       " 'Cuts to global assistance are putting young lives and futures at risk just when they need us most.',\n",
       " 'Many governments have already reduced their development and humanitarian budgets, and UNICEF expects at least a 20 per cent drop in income over the coming four years.Children are growing up amidst multiple, overlapping threats — conflict, displacement, climate shocks, poverty and discrimination — with too few safety nets to protect them.',\n",
       " 'Essential services that keep them alive, healthy, and safe are being cut back or shut down.According to a recent study in The Lancet, cuts in development and humanitarian aid announced in 2025 could result in an additional 14 million deaths globally by 2030 — including 4.5 million children under the age of five.',\n",
       " 'These are not distant risks.',\n",
       " 'They are the immediate, devastating consequences when health systems, nutrition programmes, education services and clean water are taken away from the youngest members of society.When children lose access to vaccines, diseases spread across borders.',\n",
       " 'When they go without nutrition, education or protection, the desperation that follows fuels instability and displacement that ripple outward.',\n",
       " 'The more fragile children’s lives become, the more fragile the world becomesYet we also know something else: when we invest in children, the returns are extraordinary.',\n",
       " 'Decades of evidence prove that smart investments in child health, education, protection and resilience do not just save lives — they build stronger, safer and more prosperous societies.That is why the discussions we will have this week on our new Strategic Plan and the Integrated Budget could not be more important.',\n",
       " 'These are the tools that will shape how UNICEF continues to deliver for children in this most difficult environment.',\n",
       " 'Excellencies … UNICEF is already one of the most cost-effective organizations in the global development and humanitarian system.',\n",
       " 'But in the face of the steepest drop in projected external funding in memory, Through our Future Focus Initiative, we are strategically repositioning UNICEF to continue to deliver for every child, especially the most vulnerable, in a rapidly changing world … and to implement the ambitious targets set out in our new Strategic Plan in a resource constrained environment.',\n",
       " 'We are taking bold and necessary steps to become leaner, We are also transforming our approach to delivering technical assistance for our programmes to be even faster, more context-specific and closer to children.',\n",
       " 'This includes establishing four Centres of Excellence to provide high-quality, tailored technical assistance globally, driving more substantial and sustainable impacts at scale.',\n",
       " 'more agile, and closer to the children we serve.',\n",
       " 'we are not standing still.Here is the second document.',\n",
       " 'It also has multiple paragraphs.',\n",
       " 'Semantic search should work well.',\n",
       " 'तीन यादगार दिनों तक मुझे देखभाल करने वाले परिवारों, बच्चों और युवाओं, समुदाय और सरकारी नेताओं, और हमारे समर्पित यूनिसेफ बिहार के साथियों के साथ चलने का अवसर मिला। मैंने देखा कि कैसे एक साथ मिलकर हम बच्चों के जीवन में स्थायी बदलाव ला सकते हैं। और मैंने महसूस किया कि जब हम बच्चों को सशक्त बनाते हैं, तो वे अपने परिवारों और समुदायों को भी सशक्त बनाते हैं। बिहार में, मैंने देखा कि कैसे शिक्षा, स्वास्थ्य देखभाल, पोषण, और संरक्षण के क्षेत्र में हमारे प्रयास बच्चों के जीवन को बेहतर बना रहे हैं। मैंने उन बच्चों से मुलाकात की जो अब स्कूल जा रहे हैं, जो स्वस्थ और खुश हैं, और जो अपने सपनों को पूरा करने के लिए प्रेरित हैं। मैंने उन परिवारों से भी मुलाकात की जो अब अपने बच्चों के लिए बेहतर भविष्य की उम्मीद कर रहे हैं। मैंने सरकारी अधिकारियों से भी मुलाकात की जो बच्चों के अधिकारों को सुनिश्चित करने के लिए प्रतिबद्ध हैं। मैं यूनिसेफ बिहार के समर्पित कर्मचारियों से भी मिली जो हर दिन बच्चों के लिए काम कर रहे हैं। मैं उनके समर्पण और जुनून से प्रेरित हुई। बिहार में मेरा अनुभव यादगार और प्रेरणादायक रहा। मैंने देखा कि कैसे एक साथ मिलकर हम बच्चों के जीवन में स्थायी बदलाव ला सकते हैं। और मैंने महसूस किया कि जब हम बच्चों को सशक्त बनाते हैं, तो वे अपने परिवारों और समुदायों को भी सशक्त बनाते हैं। मैं यूनिसेफ के साथ काम करने के लिए आभारी हूँ और मैं बिहार में बच्चों के लिए बेहतर भविष्य बनाने के लिए प्रतिबद्ध हूँ।']"
      ]
     },
     "execution_count": 44,
     "metadata": {},
     "output_type": "execute_result"
    }
   ],
   "source": [
    "chunk_df['chunk'].tolist()"
   ]
  },
  {
   "cell_type": "code",
   "execution_count": 45,
   "id": "054c82f4",
   "metadata": {},
   "outputs": [],
   "source": [
    "# Setup FAISS index\n",
    "embedding_dim = model.get_sentence_embedding_dimension()\n",
    "index = faiss.IndexFlatL2(embedding_dim)"
   ]
  },
  {
   "cell_type": "code",
   "execution_count": 46,
   "id": "3f949f39",
   "metadata": {},
   "outputs": [
    {
     "data": {
      "application/vnd.jupyter.widget-view+json": {
       "model_id": "a7a4a66a99884af98e1c48abff470c32",
       "version_major": 2,
       "version_minor": 0
      },
      "text/plain": [
       "Batches:   0%|          | 0/1 [00:00<?, ?it/s]"
      ]
     },
     "metadata": {},
     "output_type": "display_data"
    },
    {
     "name": "stdout",
     "output_type": "stream",
     "text": [
      "\n",
      "Encoding 2000 sentences took: 0.82 seconds\n"
     ]
    }
   ],
   "source": [
    "# Benchmark: Encoding \n",
    "start_time = time.time()\n",
    "batch_size = 256\n",
    "for batch in encode_in_batches(chunk_df['chunk'].tolist(), batch_size=batch_size):\n",
    "    embeddings = model.encode(batch, batch_size=batch_size, convert_to_numpy=True, show_progress_bar=True)\n",
    "    embeddings = np.array(embeddings, dtype=\"float32\")\n",
    "    index.add(embeddings)\n",
    "elapsed = time.time() - start_time\n",
    "print(f\"\\nEncoding 2000 sentences took: {elapsed:.2f} seconds\")"
   ]
  },
  {
   "cell_type": "code",
   "execution_count": 47,
   "id": "fe65cf67",
   "metadata": {},
   "outputs": [
    {
     "name": "stdout",
     "output_type": "stream",
     "text": [
      "FAISS index contains 20 vectors\n"
     ]
    }
   ],
   "source": [
    "print(\"FAISS index contains\", index.ntotal, \"vectors\")"
   ]
  },
  {
   "cell_type": "code",
   "execution_count": 48,
   "id": "fcc92b29",
   "metadata": {},
   "outputs": [],
   "source": [
    "# -------------------------------------------------\n",
    "# 6. Search Function\n",
    "# -------------------------------------------------\n",
    "def semantic_search(query, top_k=3):\n",
    "    query_emb = model.encode([query], convert_to_numpy=True)\n",
    "    distances, indices = index.search(query_emb, top_k)\n",
    "\n",
    "    results = []\n",
    "    for idx, dist in zip(indices[0], distances[0]):\n",
    "        row = chunk_df.iloc[idx]\n",
    "        results.append({\n",
    "            \"doc_id\": row[\"doc_id\"],\n",
    "            \"chunk_id\": row[\"chunk_id\"],\n",
    "            \"chunk\": row[\"chunk\"],\n",
    "            \"score\": float(dist)\n",
    "        })\n",
    "    return results"
   ]
  },
  {
   "cell_type": "code",
   "execution_count": 56,
   "id": "fa1a9015",
   "metadata": {},
   "outputs": [],
   "source": [
    "# -------------------------------------------------\n",
    "# 7. Run Example Search\n",
    "# -------------------------------------------------\n",
    "query = \"nutrition programmes, education services and clean water\"\n",
    "results = semantic_search(query, top_k=5)"
   ]
  },
  {
   "cell_type": "code",
   "execution_count": 57,
   "id": "1c9e95b7",
   "metadata": {},
   "outputs": [
    {
     "name": "stdout",
     "output_type": "stream",
     "text": [
      "\n",
      "Search Results:\n",
      "Doc 1 | Chunk 9 | Score: 24.1218\n",
      "Text: Decades of evidence prove that smart investments in child health, education, protection and resilience do not just save lives — they build stronger, safer and more prosperous societies.That is why the discussions we will have this week on our new Strategic Plan and the Integrated Budget could not be more important.\n",
      "---\n",
      "Doc 3 | Chunk 0 | Score: 24.2050\n",
      "Text: तीन यादगार दिनों तक मुझे देखभाल करने वाले परिवारों, बच्चों और युवाओं, समुदाय और सरकारी नेताओं, और हमारे समर्पित यूनिसेफ बिहार के साथियों के साथ चलने का अवसर मिला। मैंने देखा कि कैसे एक साथ मिलकर हम बच्चों के जीवन में स्थायी बदलाव ला सकते हैं। और मैंने महसूस किया कि जब हम बच्चों को सशक्त बनाते हैं, तो वे अपने परिवारों और समुदायों को भी सशक्त बनाते हैं। बिहार में, मैंने देखा कि कैसे शिक्षा, स्वास्थ्य देखभाल, पोषण, और संरक्षण के क्षेत्र में हमारे प्रयास बच्चों के जीवन को बेहतर बना रहे हैं। मैंने उन बच्चों से मुलाकात की जो अब स्कूल जा रहे हैं, जो स्वस्थ और खुश हैं, और जो अपने सपनों को पूरा करने के लिए प्रेरित हैं। मैंने उन परिवारों से भी मुलाकात की जो अब अपने बच्चों के लिए बेहतर भविष्य की उम्मीद कर रहे हैं। मैंने सरकारी अधिकारियों से भी मुलाकात की जो बच्चों के अधिकारों को सुनिश्चित करने के लिए प्रतिबद्ध हैं। मैं यूनिसेफ बिहार के समर्पित कर्मचारियों से भी मिली जो हर दिन बच्चों के लिए काम कर रहे हैं। मैं उनके समर्पण और जुनून से प्रेरित हुई। बिहार में मेरा अनुभव यादगार और प्रेरणादायक रहा। मैंने देखा कि कैसे एक साथ मिलकर हम बच्चों के जीवन में स्थायी बदलाव ला सकते हैं। और मैंने महसूस किया कि जब हम बच्चों को सशक्त बनाते हैं, तो वे अपने परिवारों और समुदायों को भी सशक्त बनाते हैं। मैं यूनिसेफ के साथ काम करने के लिए आभारी हूँ और मैं बिहार में बच्चों के लिए बेहतर भविष्य बनाने के लिए प्रतिबद्ध हूँ।\n",
      "---\n",
      "Doc 1 | Chunk 6 | Score: 24.5587\n",
      "Text: They are the immediate, devastating consequences when health systems, nutrition programmes, education services and clean water are taken away from the youngest members of society.When children lose access to vaccines, diseases spread across borders.\n",
      "---\n",
      "Doc 1 | Chunk 4 | Score: 24.6850\n",
      "Text: Essential services that keep them alive, healthy, and safe are being cut back or shut down.According to a recent study in The Lancet, cuts in development and humanitarian aid announced in 2025 could result in an additional 14 million deaths globally by 2030 — including 4.5 million children under the age of five.\n",
      "---\n",
      "Doc 2 | Chunk 1 | Score: 25.7984\n",
      "Text: But in the face of the steepest drop in projected external funding in memory, Through our Future Focus Initiative, we are strategically repositioning UNICEF to continue to deliver for every child, especially the most vulnerable, in a rapidly changing world … and to implement the ambitious targets set out in our new Strategic Plan in a resource constrained environment.\n",
      "---\n"
     ]
    }
   ],
   "source": [
    "print(\"\\nSearch Results:\")\n",
    "for r in results:\n",
    "    print(f\"Doc {r['doc_id']} | Chunk {r['chunk_id']} | Score: {r['score']:.4f}\")\n",
    "    print(\"Text:\", r[\"chunk\"])\n",
    "    print(\"---\")"
   ]
  },
  {
   "cell_type": "markdown",
   "id": "11680957",
   "metadata": {},
   "source": [
    "*******"
   ]
  },
  {
   "cell_type": "markdown",
   "id": "3372e363",
   "metadata": {},
   "source": []
  }
 ],
 "metadata": {
  "kernelspec": {
   "display_name": "cross-lingual-semantic-search",
   "language": "python",
   "name": "python3"
  },
  "language_info": {
   "codemirror_mode": {
    "name": "ipython",
    "version": 3
   },
   "file_extension": ".py",
   "mimetype": "text/x-python",
   "name": "python",
   "nbconvert_exporter": "python",
   "pygments_lexer": "ipython3",
   "version": "3.10.18"
  }
 },
 "nbformat": 4,
 "nbformat_minor": 5
}
